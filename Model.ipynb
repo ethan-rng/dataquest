{
 "cells": [
  {
   "cell_type": "code",
   "execution_count": 52,
   "id": "4e8ec6a3-d4be-471d-8839-fb3bf6e76301",
   "metadata": {},
   "outputs": [],
   "source": [
    "import pandas as pd\n",
    "\n",
    "from sklearn.model_selection import train_test_split\n",
    "from sklearn.metrics import accuracy_score\n",
    "from sklearn.metrics import confusion_matrix\n",
    "from sklearn.metrics import confusion_matrix, precision_score, recall_score, accuracy_score, f1_score\n",
    "from sklearn.linear_model import LogisticRegression, RidgeClassifier\n",
    "# from sklearn.linear_model import LinearRegression\n",
    "from sklearn.tree import DecisionTreeClassifier\n",
    "from sklearn.neighbors import KNeighborsClassifier\n",
    "\n",
    "from sklearn.ensemble import RandomForestClassifier, GradientBoostingClassifier"
   ]
  },
  {
   "cell_type": "code",
<<<<<<< HEAD
   "execution_count": 17,
=======
   "execution_count": 53,
>>>>>>> 521ee0174f4363d5b79f3c7639623990481f0bca
   "id": "91a65714-434a-48ea-b8fe-a99800d55edf",
   "metadata": {},
   "outputs": [
    {
     "data": {
      "text/plain": [
       "(2137, 11)"
      ]
     },
<<<<<<< HEAD
     "execution_count": 17,
=======
     "execution_count": 53,
>>>>>>> 521ee0174f4363d5b79f3c7639623990481f0bca
     "metadata": {},
     "output_type": "execute_result"
    }
   ],
   "source": [
    "X_train = pd.read_csv(\"./data/X_train.csv\")\n",
    "X_test = pd.read_csv(\"./data/X_test.csv\")\n",
    "y_train =  pd.read_csv(\"./data/y_train.csv\")\n",
    "y_test = pd.read_csv(\"./data/y_test.csv\")\n",
    "\n",
    "X_train.shape"
   ]
  },
  {
   "cell_type": "code",
<<<<<<< HEAD
   "execution_count": 18,
=======
   "execution_count": 54,
>>>>>>> 521ee0174f4363d5b79f3c7639623990481f0bca
   "id": "8bb67045-882a-43e7-bf06-7d523a885890",
   "metadata": {},
   "outputs": [
    {
     "data": {
      "text/html": [
       "<style>#sk-container-id-6 {color: black;background-color: white;}#sk-container-id-6 pre{padding: 0;}#sk-container-id-6 div.sk-toggleable {background-color: white;}#sk-container-id-6 label.sk-toggleable__label {cursor: pointer;display: block;width: 100%;margin-bottom: 0;padding: 0.3em;box-sizing: border-box;text-align: center;}#sk-container-id-6 label.sk-toggleable__label-arrow:before {content: \"▸\";float: left;margin-right: 0.25em;color: #696969;}#sk-container-id-6 label.sk-toggleable__label-arrow:hover:before {color: black;}#sk-container-id-6 div.sk-estimator:hover label.sk-toggleable__label-arrow:before {color: black;}#sk-container-id-6 div.sk-toggleable__content {max-height: 0;max-width: 0;overflow: hidden;text-align: left;background-color: #f0f8ff;}#sk-container-id-6 div.sk-toggleable__content pre {margin: 0.2em;color: black;border-radius: 0.25em;background-color: #f0f8ff;}#sk-container-id-6 input.sk-toggleable__control:checked~div.sk-toggleable__content {max-height: 200px;max-width: 100%;overflow: auto;}#sk-container-id-6 input.sk-toggleable__control:checked~label.sk-toggleable__label-arrow:before {content: \"▾\";}#sk-container-id-6 div.sk-estimator input.sk-toggleable__control:checked~label.sk-toggleable__label {background-color: #d4ebff;}#sk-container-id-6 div.sk-label input.sk-toggleable__control:checked~label.sk-toggleable__label {background-color: #d4ebff;}#sk-container-id-6 input.sk-hidden--visually {border: 0;clip: rect(1px 1px 1px 1px);clip: rect(1px, 1px, 1px, 1px);height: 1px;margin: -1px;overflow: hidden;padding: 0;position: absolute;width: 1px;}#sk-container-id-6 div.sk-estimator {font-family: monospace;background-color: #f0f8ff;border: 1px dotted black;border-radius: 0.25em;box-sizing: border-box;margin-bottom: 0.5em;}#sk-container-id-6 div.sk-estimator:hover {background-color: #d4ebff;}#sk-container-id-6 div.sk-parallel-item::after {content: \"\";width: 100%;border-bottom: 1px solid gray;flex-grow: 1;}#sk-container-id-6 div.sk-label:hover label.sk-toggleable__label {background-color: #d4ebff;}#sk-container-id-6 div.sk-serial::before {content: \"\";position: absolute;border-left: 1px solid gray;box-sizing: border-box;top: 0;bottom: 0;left: 50%;z-index: 0;}#sk-container-id-6 div.sk-serial {display: flex;flex-direction: column;align-items: center;background-color: white;padding-right: 0.2em;padding-left: 0.2em;position: relative;}#sk-container-id-6 div.sk-item {position: relative;z-index: 1;}#sk-container-id-6 div.sk-parallel {display: flex;align-items: stretch;justify-content: center;background-color: white;position: relative;}#sk-container-id-6 div.sk-item::before, #sk-container-id-6 div.sk-parallel-item::before {content: \"\";position: absolute;border-left: 1px solid gray;box-sizing: border-box;top: 0;bottom: 0;left: 50%;z-index: -1;}#sk-container-id-6 div.sk-parallel-item {display: flex;flex-direction: column;z-index: 1;position: relative;background-color: white;}#sk-container-id-6 div.sk-parallel-item:first-child::after {align-self: flex-end;width: 50%;}#sk-container-id-6 div.sk-parallel-item:last-child::after {align-self: flex-start;width: 50%;}#sk-container-id-6 div.sk-parallel-item:only-child::after {width: 0;}#sk-container-id-6 div.sk-dashed-wrapped {border: 1px dashed gray;margin: 0 0.4em 0.5em 0.4em;box-sizing: border-box;padding-bottom: 0.4em;background-color: white;}#sk-container-id-6 div.sk-label label {font-family: monospace;font-weight: bold;display: inline-block;line-height: 1.2em;}#sk-container-id-6 div.sk-label-container {text-align: center;}#sk-container-id-6 div.sk-container {/* jupyter's `normalize.less` sets `[hidden] { display: none; }` but bootstrap.min.css set `[hidden] { display: none !important; }` so we also need the `!important` here to be able to override the default hidden behavior on the sphinx rendered scikit-learn.org. See: https://github.com/scikit-learn/scikit-learn/issues/21755 */display: inline-block !important;position: relative;}#sk-container-id-6 div.sk-text-repr-fallback {display: none;}</style><div id=\"sk-container-id-6\" class=\"sk-top-container\"><div class=\"sk-text-repr-fallback\"><pre>RandomForestClassifier()</pre><b>In a Jupyter environment, please rerun this cell to show the HTML representation or trust the notebook. <br />On GitHub, the HTML representation is unable to render, please try loading this page with nbviewer.org.</b></div><div class=\"sk-container\" hidden><div class=\"sk-item\"><div class=\"sk-estimator sk-toggleable\"><input class=\"sk-toggleable__control sk-hidden--visually\" id=\"sk-estimator-id-6\" type=\"checkbox\" checked><label for=\"sk-estimator-id-6\" class=\"sk-toggleable__label sk-toggleable__label-arrow\">RandomForestClassifier</label><div class=\"sk-toggleable__content\"><pre>RandomForestClassifier()</pre></div></div></div></div></div>"
      ],
      "text/plain": [
       "RandomForestClassifier()"
      ]
     },
<<<<<<< HEAD
     "execution_count": 18,
=======
     "execution_count": 54,
>>>>>>> 521ee0174f4363d5b79f3c7639623990481f0bca
     "metadata": {},
     "output_type": "execute_result"
    }
   ],
   "source": [
    "model = RandomForestClassifier()\n",
    "model.fit(X_train, y_train['isFraud'])"
   ]
  },
  {
   "cell_type": "code",
<<<<<<< HEAD
   "execution_count": 19,
=======
   "execution_count": 55,
>>>>>>> 521ee0174f4363d5b79f3c7639623990481f0bca
   "id": "64c6ba3e-8303-4be2-8f80-5b65cdde69c0",
   "metadata": {},
   "outputs": [
    {
     "name": "stdout",
     "output_type": "stream",
     "text": [
      "Confusion Matrix:\n",
<<<<<<< HEAD
      "[[273   8]\n",
      " [  7 247]]\n",
      "Precision: 0.9686274509803922\n",
      "Recall: 0.9724409448818898\n",
      "Accuracy: 0.9719626168224299\n",
      "F1 Score: 0.9705304518664046\n"
=======
      "[[274   7]\n",
      " [  8 246]]\n",
      "Precision: 0.9723320158102767\n",
      "Recall: 0.968503937007874\n",
      "Accuracy: 0.9719626168224299\n",
      "F1 Score: 0.9704142011834319\n"
>>>>>>> 521ee0174f4363d5b79f3c7639623990481f0bca
     ]
    }
   ],
   "source": [
    "# Make predictions on the testing data\n",
    "y_pred = model.predict(X_test)\n",
    "\n",
    "# Generate the confusion matrix\n",
    "cm = confusion_matrix(y_test['isFraud'], y_pred)\n",
    "\n",
    "# Calculate precision, recall, and accuracy\n",
    "precision = precision_score(y_test['isFraud'], y_pred, average='binary')  # Adjust 'binary' if you have multi-class classification\n",
    "recall = recall_score(y_test['isFraud'], y_pred, average='binary')  # Adjust 'binary' if you have multi-class classification\n",
    "accuracy = accuracy_score(y_test['isFraud'], y_pred)\n",
    "f1 = f1_score(y_test['isFraud'], y_pred, average='binary')  # Adjust 'binary' if you have multi-class classification\n",
    "\n",
    "\n",
    "# Print the confusion matrix and the calculated metrics\n",
    "def runCM(cm, precision, recall, accuracy, f1):\n",
    "    print(\"Confusion Matrix:\")\n",
    "    print(cm)\n",
    "    print(f\"Precision: {precision}\")\n",
    "    print(f\"Recall: {recall}\")\n",
    "    print(f\"Accuracy: {accuracy}\")\n",
    "    print(f\"F1 Score: {f1}\")\n",
    "\n",
    "runCM(CM, precision, recall, accuracy, f1)"
   ]
  },
  {
   "cell_type": "markdown",
   "id": "81c3cd66-e1c9-42c6-a127-71a85456dc54",
   "metadata": {},
   "source": [
    "# Additional Testing on Entire Dataset"
   ]
  },
  {
   "cell_type": "code",
   "execution_count": 22,
   "id": "56091fd9-f163-4725-b241-f1677320b933",
   "metadata": {},
   "outputs": [
    {
     "data": {
      "text/html": [
       "<div>\n",
       "<style scoped>\n",
       "    .dataframe tbody tr th:only-of-type {\n",
       "        vertical-align: middle;\n",
       "    }\n",
       "\n",
       "    .dataframe tbody tr th {\n",
       "        vertical-align: top;\n",
       "    }\n",
       "\n",
       "    .dataframe thead th {\n",
       "        text-align: right;\n",
       "    }\n",
       "</style>\n",
       "<table border=\"1\" class=\"dataframe\">\n",
       "  <thead>\n",
       "    <tr style=\"text-align: right;\">\n",
       "      <th></th>\n",
       "      <th>Unnamed: 0</th>\n",
       "      <th>amount</th>\n",
       "      <th>cityPop</th>\n",
       "      <th>unixTime</th>\n",
       "      <th>merchLatitude</th>\n",
       "      <th>merchLongitude</th>\n",
       "      <th>age</th>\n",
       "      <th>category_gas_transport</th>\n",
       "      <th>category_grocery_pos</th>\n",
       "      <th>category_shopping_net</th>\n",
       "      <th>distance_between</th>\n",
       "      <th>isFraud</th>\n",
       "    </tr>\n",
       "  </thead>\n",
       "  <tbody>\n",
       "    <tr>\n",
       "      <th>0</th>\n",
       "      <td>0</td>\n",
       "      <td>0.000032</td>\n",
       "      <td>4.143563e-05</td>\n",
       "      <td>0.000000</td>\n",
       "      <td>0.440700</td>\n",
       "      <td>0.772111</td>\n",
       "      <td>0.7375</td>\n",
       "      <td>0</td>\n",
       "      <td>0</td>\n",
       "      <td>0</td>\n",
       "      <td>0.572049</td>\n",
       "      <td>0</td>\n",
       "    </tr>\n",
       "    <tr>\n",
       "      <th>1</th>\n",
       "      <td>1</td>\n",
       "      <td>0.000021</td>\n",
       "      <td>4.925612e-06</td>\n",
       "      <td>0.000000</td>\n",
       "      <td>0.390349</td>\n",
       "      <td>0.842510</td>\n",
       "      <td>0.9750</td>\n",
       "      <td>0</td>\n",
       "      <td>0</td>\n",
       "      <td>1</td>\n",
       "      <td>0.298690</td>\n",
       "      <td>0</td>\n",
       "    </tr>\n",
       "    <tr>\n",
       "      <th>2</th>\n",
       "      <td>2</td>\n",
       "      <td>0.000178</td>\n",
       "      <td>2.080114e-06</td>\n",
       "      <td>0.000002</td>\n",
       "      <td>0.420541</td>\n",
       "      <td>0.448314</td>\n",
       "      <td>0.6250</td>\n",
       "      <td>0</td>\n",
       "      <td>0</td>\n",
       "      <td>0</td>\n",
       "      <td>0.823143</td>\n",
       "      <td>0</td>\n",
       "    </tr>\n",
       "    <tr>\n",
       "      <th>3</th>\n",
       "      <td>3</td>\n",
       "      <td>0.000074</td>\n",
       "      <td>1.871486e-05</td>\n",
       "      <td>0.000002</td>\n",
       "      <td>0.509176</td>\n",
       "      <td>0.725492</td>\n",
       "      <td>0.5000</td>\n",
       "      <td>0</td>\n",
       "      <td>0</td>\n",
       "      <td>0</td>\n",
       "      <td>0.507048</td>\n",
       "      <td>0</td>\n",
       "    </tr>\n",
       "    <tr>\n",
       "      <th>4</th>\n",
       "      <td>4</td>\n",
       "      <td>0.001002</td>\n",
       "      <td>1.188196e-05</td>\n",
       "      <td>0.000008</td>\n",
       "      <td>0.423723</td>\n",
       "      <td>0.885317</td>\n",
       "      <td>0.4875</td>\n",
       "      <td>0</td>\n",
       "      <td>1</td>\n",
       "      <td>0</td>\n",
       "      <td>0.358400</td>\n",
       "      <td>0</td>\n",
       "    </tr>\n",
       "    <tr>\n",
       "      <th>...</th>\n",
       "      <td>...</td>\n",
       "      <td>...</td>\n",
       "      <td>...</td>\n",
       "      <td>...</td>\n",
       "      <td>...</td>\n",
       "      <td>...</td>\n",
       "      <td>...</td>\n",
       "      <td>...</td>\n",
       "      <td>...</td>\n",
       "      <td>...</td>\n",
       "      <td>...</td>\n",
       "      <td>...</td>\n",
       "    </tr>\n",
       "    <tr>\n",
       "      <th>181817</th>\n",
       "      <td>181817</td>\n",
       "      <td>0.000566</td>\n",
       "      <td>2.660448e-04</td>\n",
       "      <td>0.999998</td>\n",
       "      <td>0.412495</td>\n",
       "      <td>0.892959</td>\n",
       "      <td>0.6750</td>\n",
       "      <td>0</td>\n",
       "      <td>0</td>\n",
       "      <td>0</td>\n",
       "      <td>0.227643</td>\n",
       "      <td>0</td>\n",
       "    </tr>\n",
       "    <tr>\n",
       "      <th>181818</th>\n",
       "      <td>181818</td>\n",
       "      <td>0.000058</td>\n",
       "      <td>7.662253e-03</td>\n",
       "      <td>0.999998</td>\n",
       "      <td>0.305187</td>\n",
       "      <td>0.496819</td>\n",
       "      <td>0.5625</td>\n",
       "      <td>0</td>\n",
       "      <td>0</td>\n",
       "      <td>0</td>\n",
       "      <td>0.419812</td>\n",
       "      <td>0</td>\n",
       "    </tr>\n",
       "    <tr>\n",
       "      <th>181819</th>\n",
       "      <td>181819</td>\n",
       "      <td>0.000359</td>\n",
       "      <td>6.172446e-07</td>\n",
       "      <td>1.000000</td>\n",
       "      <td>0.449861</td>\n",
       "      <td>0.599924</td>\n",
       "      <td>0.3750</td>\n",
       "      <td>0</td>\n",
       "      <td>0</td>\n",
       "      <td>0</td>\n",
       "      <td>0.627880</td>\n",
       "      <td>0</td>\n",
       "    </tr>\n",
       "    <tr>\n",
       "      <th>181820</th>\n",
       "      <td>181820</td>\n",
       "      <td>0.000092</td>\n",
       "      <td>5.865985e-04</td>\n",
       "      <td>1.000000</td>\n",
       "      <td>0.277880</td>\n",
       "      <td>0.694989</td>\n",
       "      <td>0.2125</td>\n",
       "      <td>0</td>\n",
       "      <td>0</td>\n",
       "      <td>0</td>\n",
       "      <td>0.500155</td>\n",
       "      <td>0</td>\n",
       "    </tr>\n",
       "    <tr>\n",
       "      <th>181821</th>\n",
       "      <td>181821</td>\n",
       "      <td>0.000069</td>\n",
       "      <td>6.354534e-05</td>\n",
       "      <td>1.000000</td>\n",
       "      <td>0.237712</td>\n",
       "      <td>0.845189</td>\n",
       "      <td>0.0875</td>\n",
       "      <td>0</td>\n",
       "      <td>0</td>\n",
       "      <td>0</td>\n",
       "      <td>0.751359</td>\n",
       "      <td>0</td>\n",
       "    </tr>\n",
       "  </tbody>\n",
       "</table>\n",
       "<p>181822 rows × 12 columns</p>\n",
       "</div>"
      ],
      "text/plain": [
       "        Unnamed: 0    amount       cityPop  unixTime  merchLatitude  \\\n",
       "0                0  0.000032  4.143563e-05  0.000000       0.440700   \n",
       "1                1  0.000021  4.925612e-06  0.000000       0.390349   \n",
       "2                2  0.000178  2.080114e-06  0.000002       0.420541   \n",
       "3                3  0.000074  1.871486e-05  0.000002       0.509176   \n",
       "4                4  0.001002  1.188196e-05  0.000008       0.423723   \n",
       "...            ...       ...           ...       ...            ...   \n",
       "181817      181817  0.000566  2.660448e-04  0.999998       0.412495   \n",
       "181818      181818  0.000058  7.662253e-03  0.999998       0.305187   \n",
       "181819      181819  0.000359  6.172446e-07  1.000000       0.449861   \n",
       "181820      181820  0.000092  5.865985e-04  1.000000       0.277880   \n",
       "181821      181821  0.000069  6.354534e-05  1.000000       0.237712   \n",
       "\n",
       "        merchLongitude     age  category_gas_transport  category_grocery_pos  \\\n",
       "0             0.772111  0.7375                       0                     0   \n",
       "1             0.842510  0.9750                       0                     0   \n",
       "2             0.448314  0.6250                       0                     0   \n",
       "3             0.725492  0.5000                       0                     0   \n",
       "4             0.885317  0.4875                       0                     1   \n",
       "...                ...     ...                     ...                   ...   \n",
       "181817        0.892959  0.6750                       0                     0   \n",
       "181818        0.496819  0.5625                       0                     0   \n",
       "181819        0.599924  0.3750                       0                     0   \n",
       "181820        0.694989  0.2125                       0                     0   \n",
       "181821        0.845189  0.0875                       0                     0   \n",
       "\n",
       "        category_shopping_net  distance_between  isFraud  \n",
       "0                           0          0.572049        0  \n",
       "1                           1          0.298690        0  \n",
       "2                           0          0.823143        0  \n",
       "3                           0          0.507048        0  \n",
       "4                           0          0.358400        0  \n",
       "...                       ...               ...      ...  \n",
       "181817                      0          0.227643        0  \n",
       "181818                      0          0.419812        0  \n",
       "181819                      0          0.627880        0  \n",
       "181820                      0          0.500155        0  \n",
       "181821                      0          0.751359        0  \n",
       "\n",
       "[181822 rows x 12 columns]"
      ]
     },
     "execution_count": 22,
     "metadata": {},
     "output_type": "execute_result"
    }
   ],
   "source": [
    "dataSet =  pd.read_csv(\"./data/data.csv\")\n",
    "dataSet"
   ]
  },
  {
   "cell_type": "code",
   "execution_count": 28,
   "id": "c6e42775-21d5-4837-8dec-73c325c23b15",
   "metadata": {},
   "outputs": [
    {
     "name": "stdout",
     "output_type": "stream",
     "text": [
      "Confusion Matrix:\n",
      "[[175019   5467]\n",
      " [     7   1329]]\n",
      "Precision: 0.1955562095350206\n",
      "Recall: 0.9947604790419161\n",
      "Accuracy: 0.969893632233723\n",
      "F1 Score: 0.32685686178061973\n"
     ]
    }
   ],
   "source": [
    "y_pred2 = model.predict(dataSet.drop([\"isFraud\"], axis=1))\n",
    "\n",
    "# Generate the confusion matrix\n",
    "cm = confusion_matrix(dataSet[\"isFraud\"], y_pred2)\n",
    "\n",
    "# Calculate precision, recall, and accuracy\n",
    "precision = precision_score(dataSet[\"isFraud\"], y_pred2, average='binary')  # Adjust 'binary' if you have multi-class classification\n",
    "recall = recall_score(dataSet[\"isFraud\"], y_pred2, average='binary')  # Adjust 'binary' if you have multi-class classification\n",
    "accuracy = accuracy_score(dataSet[\"isFraud\"], y_pred2)\n",
    "f1 = f1_score(dataSet[\"isFraud\"], y_pred2, average='binary')  # Adjust 'binary' if you have multi-class classification\n",
    "\n",
    "\n",
    "# Print the confusion matrix and the calculated metrics\n",
    "def runCM(cm, precision, recall, accuracy, f1):\n",
    "    print(\"Confusion Matrix:\")\n",
    "    print(cm)\n",
    "    print(f\"Precision: {precision}\")\n",
    "    print(f\"Recall: {recall}\")\n",
    "    print(f\"Accuracy: {accuracy}\")\n",
    "    print(f\"F1 Score: {f1}\")\n",
    "\n",
    "runCM(cm, precision, recall, accuracy, f1)"
   ]
  },
  {
   "cell_type": "code",
<<<<<<< HEAD
   "execution_count": null,
   "id": "860b6e76-62d1-4121-a56b-34d905444145",
=======
   "execution_count": 56,
   "id": "20c1bffe-0627-4655-9537-91fa348a9394",
>>>>>>> 521ee0174f4363d5b79f3c7639623990481f0bca
   "metadata": {},
   "outputs": [
    {
     "name": "stdout",
     "output_type": "stream",
     "text": [
      "Accuracy: 0.9644859813084112\n",
      "Precision: 0.9835390946502057\n",
      "Recall: 0.9409448818897638\n",
      "F1 Score: 0.9617706237424547\n",
      "Confusion Matrix:\n",
      " [[277   4]\n",
      " [ 15 239]]\n"
     ]
    }
   ],
   "source": [
    "# Correctly format y_train if it's not already a Series\n",
    "y_train_series = y_train['isFraud'].squeeze()\n",
    "\n",
    "# Initialize and fit the logistic regression model\n",
    "# lr = LogisticRegression(random_state=42) # 57% accuracy\n",
    "# lr = RidgeClassifier() # 70% accuracy\n",
    "# lr = DecisionTreeClassifier(random_state=42) # 93% accuracy\n",
    "# lr = KNeighborsClassifier() # 77% accuracy\n",
    "lr = GradientBoostingClassifier(random_state=42) # 96% accuracy\n",
    "lr.fit(X_train, y_train_series)\n",
    "\n",
    "# Make predictions on the test set\n",
    "y_pred = lr.predict(X_test)\n",
    "\n",
    "# Correctly format y_test to ensure it's a Series\n",
    "y_test_series = y_test['isFraud'].squeeze()\n",
    "\n",
    "# Evaluate the model's performance\n",
    "print('Accuracy:', accuracy_score(y_test_series, y_pred))\n",
    "print('Precision:', precision_score(y_test_series, y_pred, zero_division=0))\n",
    "print('Recall:', recall_score(y_test_series, y_pred))\n",
    "print('F1 Score:', f1_score(y_test_series, y_pred))\n",
    "print('Confusion Matrix:\\n', confusion_matrix(y_test_series, y_pred))"
   ]
  }
 ],
 "metadata": {
  "kernelspec": {
   "display_name": "Python 3 (ipykernel)",
   "language": "python",
   "name": "python3"
  },
  "language_info": {
   "codemirror_mode": {
    "name": "ipython",
    "version": 3
   },
   "file_extension": ".py",
   "mimetype": "text/x-python",
   "name": "python",
   "nbconvert_exporter": "python",
   "pygments_lexer": "ipython3",
   "version": "3.9.13"
  }
 },
 "nbformat": 4,
 "nbformat_minor": 5
}
