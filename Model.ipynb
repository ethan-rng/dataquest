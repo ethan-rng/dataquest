{
 "cells": [
  {
   "cell_type": "code",
   "execution_count": 12,
   "id": "4e8ec6a3-d4be-471d-8839-fb3bf6e76301",
   "metadata": {},
   "outputs": [],
   "source": [
    "import pandas as pd\n",
    "\n",
    "from sklearn.model_selection import train_test_split\n",
    "from sklearn.metrics import accuracy_score\n",
    "from sklearn.metrics import confusion_matrix\n",
    "from sklearn.metrics import confusion_matrix, precision_score, recall_score, accuracy_score, f1_score\n"
   ]
  },
  {
   "cell_type": "code",
   "execution_count": 2,
   "id": "91a65714-434a-48ea-b8fe-a99800d55edf",
   "metadata": {},
   "outputs": [
    {
     "data": {
      "text/plain": [
       "(2137, 11)"
      ]
     },
     "execution_count": 2,
     "metadata": {},
     "output_type": "execute_result"
    }
   ],
   "source": [
    "X_train = pd.read_csv(\"./data/X_train.csv\")\n",
    "X_test = pd.read_csv(\"./data/X_test.csv\")\n",
    "y_train =  pd.read_csv(\"./data/y_train.csv\")\n",
    "y_test = pd.read_csv(\"./data/y_test.csv\")\n",
    "\n",
    "X_train.shape"
   ]
  },
  {
   "cell_type": "code",
   "execution_count": 4,
   "id": "8bb67045-882a-43e7-bf06-7d523a885890",
   "metadata": {},
   "outputs": [
    {
     "data": {
      "text/plain": [
       "RandomForestClassifier()"
      ]
     },
     "execution_count": 4,
     "metadata": {},
     "output_type": "execute_result"
    }
   ],
   "source": [
    "from sklearn.ensemble import RandomForestClassifier\n",
    "\n",
    "model = RandomForestClassifier()\n",
    "model.fit(X_train, y_train['isFraud'])"
   ]
  },
  {
   "cell_type": "code",
   "execution_count": 14,
   "id": "64c6ba3e-8303-4be2-8f80-5b65cdde69c0",
   "metadata": {},
   "outputs": [
    {
     "name": "stdout",
     "output_type": "stream",
     "text": [
      "Confusion Matrix:\n",
      "[[273   8]\n",
      " [  8 246]]\n",
      "Precision: 0.968503937007874\n",
      "Recall: 0.968503937007874\n",
      "Accuracy: 0.9700934579439252\n",
      "F1 Score: 0.968503937007874\n"
     ]
    }
   ],
   "source": [
    "# Make predictions on the testing data\n",
    "y_pred = model.predict(X_test)\n",
    "\n",
    "# Generate the confusion matrix\n",
    "cm = confusion_matrix(y_test['isFraud'], y_pred)\n",
    "\n",
    "# Calculate precision, recall, and accuracy\n",
    "precision = precision_score(y_test['isFraud'], y_pred, average='binary')  # Adjust 'binary' if you have multi-class classification\n",
    "recall = recall_score(y_test['isFraud'], y_pred, average='binary')  # Adjust 'binary' if you have multi-class classification\n",
    "accuracy = accuracy_score(y_test['isFraud'], y_pred)\n",
    "f1 = f1_score(y_test['isFraud'], y_pred, average='binary')  # Adjust 'binary' if you have multi-class classification\n",
    "\n",
    "\n",
    "# Print the confusion matrix and the calculated metrics\n",
    "print(\"Confusion Matrix:\")\n",
    "print(cm)\n",
    "print(f\"Precision: {precision}\")\n",
    "print(f\"Recall: {recall}\")\n",
    "print(f\"Accuracy: {accuracy}\")\n",
    "print(f\"F1 Score: {f1}\")"
   ]
  },
  {
   "cell_type": "code",
   "execution_count": null,
   "id": "20c1bffe-0627-4655-9537-91fa348a9394",
   "metadata": {},
   "outputs": [],
   "source": []
  }
 ],
 "metadata": {
  "kernelspec": {
   "display_name": "Python 3 (ipykernel)",
   "language": "python",
   "name": "python3"
  },
  "language_info": {
   "codemirror_mode": {
    "name": "ipython",
    "version": 3
   },
   "file_extension": ".py",
   "mimetype": "text/x-python",
   "name": "python",
   "nbconvert_exporter": "python",
   "pygments_lexer": "ipython3",
   "version": "3.9.13"
  }
 },
 "nbformat": 4,
 "nbformat_minor": 5
}
